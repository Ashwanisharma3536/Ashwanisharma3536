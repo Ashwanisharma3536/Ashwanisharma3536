{
 "cells": [
  {
   "cell_type": "code",
   "execution_count": 7,
   "id": "1cd105cf",
   "metadata": {},
   "outputs": [
    {
     "name": "stdout",
     "output_type": "stream",
     "text": [
      "46796E3331\n"
     ]
    },
    {
     "data": {
      "text/plain": [
       "<sqlite3.Cursor at 0x2518eb8efc0>"
      ]
     },
     "execution_count": 7,
     "metadata": {},
     "output_type": "execute_result"
    }
   ],
   "source": [
    "import sqlite3\n",
    "db=sqlite3.connect(':memory:')         # when we want to create the dbase in RAM only not in disk\n",
    "cursor= db.cursor()\n",
    "cursor.execute('''CREATE TABLE Ages(name varchar(128),age integer)''')\n",
    "cursor.execute('''delete from Ages''')\n",
    "cursor.execute('''insert into ages values('Mara',28)''')\n",
    "cursor.execute('''insert into ages values('Otto',33)''')\n",
    "cursor.execute('''insert into ages values('Fyn',31)''')\n",
    "cursor.execute('''insert into ages values('Neshwan',17)''')\n",
    "cursor.execute('''insert into ages values('John',20)''')\n",
    "cursor.execute('''select * from ages''')\n",
    "# rows = cursor.fetchall()\n",
    "# for row in rows:\n",
    "#     print(row)    \n",
    "record1 = cursor.execute('''SELECT HEX(name||age) AS X FROM Ages ORDER BY X''')\n",
    "rows= cursor.fetchone()\n",
    "for row in rows:\n",
    "    print(row)\n",
    "cursor.execute('''select * from ages where name||age=\"53656C696E613333\"''') \n"
   ]
  },
  {
   "cell_type": "code",
   "execution_count": null,
   "id": "725c9140",
   "metadata": {},
   "outputs": [],
   "source": []
  },
  {
   "cell_type": "code",
   "execution_count": null,
   "id": "4051ed44",
   "metadata": {},
   "outputs": [],
   "source": []
  },
  {
   "cell_type": "code",
   "execution_count": null,
   "id": "3c746d46",
   "metadata": {},
   "outputs": [],
   "source": []
  },
  {
   "cell_type": "code",
   "execution_count": null,
   "id": "7cc7454c",
   "metadata": {},
   "outputs": [],
   "source": []
  },
  {
   "cell_type": "code",
   "execution_count": null,
   "id": "557b4e3d",
   "metadata": {},
   "outputs": [],
   "source": []
  }
 ],
 "metadata": {
  "kernelspec": {
   "display_name": "Python 3 (ipykernel)",
   "language": "python",
   "name": "python3"
  },
  "language_info": {
   "codemirror_mode": {
    "name": "ipython",
    "version": 3
   },
   "file_extension": ".py",
   "mimetype": "text/x-python",
   "name": "python",
   "nbconvert_exporter": "python",
   "pygments_lexer": "ipython3",
   "version": "3.11.3"
  }
 },
 "nbformat": 4,
 "nbformat_minor": 5
}
